{
  "nbformat": 4,
  "nbformat_minor": 0,
  "metadata": {
    "kernelspec": {
      "display_name": "Python 3",
      "language": "python",
      "name": "python3"
    },
    "language_info": {
      "codemirror_mode": {
        "name": "ipython",
        "version": 3
      },
      "file_extension": ".py",
      "mimetype": "text/x-python",
      "name": "python",
      "nbconvert_exporter": "python",
      "pygments_lexer": "ipython3",
      "version": "3.5.6"
    },
    "colab": {
      "name": "project.ipynb",
      "provenance": []
    },
    "accelerator": "GPU"
  },
  "cells": [
    {
      "cell_type": "markdown",
      "metadata": {
        "id": "2SYIO2MKrT0H"
      },
      "source": [
        "# Bees vs Wasps notebook"
      ]
    },
    {
      "cell_type": "code",
      "metadata": {
        "colab": {
          "base_uri": "https://localhost:8080/"
        },
        "id": "XCfncqfMrmeV",
        "outputId": "2f8cece0-0a63-439f-c06a-940f2e9905b4"
      },
      "source": [
        "!git clone https://github.com/Patricklomp/AI-course-project.git\r\n"
      ],
      "execution_count": 65,
      "outputs": [
        {
          "output_type": "stream",
          "text": [
            "Cloning into 'AI-course-project'...\n",
            "remote: Enumerating objects: 22, done.\u001b[K\n",
            "remote: Counting objects: 100% (22/22), done.\u001b[K\n",
            "remote: Compressing objects: 100% (18/18), done.\u001b[K\n",
            "remote: Total 11454 (delta 10), reused 13 (delta 4), pack-reused 11432\u001b[K\n",
            "Receiving objects: 100% (11454/11454), 563.30 MiB | 14.83 MiB/s, done.\n",
            "Resolving deltas: 100% (12/12), done.\n",
            "Checking out files: 100% (11427/11427), done.\n"
          ],
          "name": "stdout"
        }
      ]
    },
    {
      "cell_type": "markdown",
      "metadata": {
        "id": "s80nqqjyrT0T"
      },
      "source": [
        "Andmete URL: https://www.kaggle.com/jerzydziewierz/bee-vs-wasp#\n",
        "\n",
        "#### Kasutatud materjal\n",
        "- https://blog.keras.io/building-powerful-image-classification-models-using-very-little-data.html\n",
        "- https://www.kaggle.com/koshirosato/bee-or-wasp-base-line-using-resnet50/notebook\n",
        "\n",
        "#### Grupp\n",
        "- Patrick Lomp\n",
        "- Artti Raasuke"
      ]
    },
    {
      "cell_type": "markdown",
      "metadata": {
        "id": "qCsHErfArT0V"
      },
      "source": [
        "#### Impordid"
      ]
    },
    {
      "cell_type": "code",
      "metadata": {
        "id": "2yFzL0ETrT0W"
      },
      "source": [
        "%reload_ext autoreload\n",
        "%autoreload 2\n",
        "%matplotlib inline\n",
        "\n",
        "# additional classic imports\n",
        "from pathlib import Path\n",
        "import pandas as pd\n",
        "import numpy as np\n",
        "import random\n",
        "import os\n",
        "import gc\n",
        "import cv2\n",
        "from google.colab.patches import cv2_imshow\n",
        "\n",
        "from tensorflow.keras.layers import *\n",
        "from keras.models import Sequential\n",
        "from keras.optimizers import Adam\n",
        "from tqdm import tqdm\n",
        "\n",
        "import matplotlib.pyplot as plt\n",
        "import tensorflow as tf\n",
        "import tensorflow.keras"
      ],
      "execution_count": 88,
      "outputs": []
    },
    {
      "cell_type": "code",
      "metadata": {
        "id": "z_WMNeyerT0Z"
      },
      "source": [
        "gpus = tf.config.experimental.list_physical_devices('GPU') \n",
        "for gpu in gpus: \n",
        "    tf.config.experimental.set_memory_growth(gpu, True)"
      ],
      "execution_count": 67,
      "outputs": []
    },
    {
      "cell_type": "code",
      "metadata": {
        "colab": {
          "base_uri": "https://localhost:8080/"
        },
        "id": "sZH25omurT0d",
        "outputId": "49c18877-397a-44fe-84f1-507115cddd1e"
      },
      "source": [
        "# pip3 install --upgrade tensorflow-gpu\n",
        "\n",
        "from tensorflow.python.client import device_lib\n",
        "print(device_lib.list_local_devices())"
      ],
      "execution_count": 68,
      "outputs": [
        {
          "output_type": "stream",
          "text": [
            "[name: \"/device:CPU:0\"\n",
            "device_type: \"CPU\"\n",
            "memory_limit: 268435456\n",
            "locality {\n",
            "}\n",
            "incarnation: 7160550042119458214\n",
            ", name: \"/device:GPU:0\"\n",
            "device_type: \"GPU\"\n",
            "memory_limit: 15692777408\n",
            "locality {\n",
            "  bus_id: 1\n",
            "  links {\n",
            "  }\n",
            "}\n",
            "incarnation: 10749052617095718640\n",
            "physical_device_desc: \"device: 0, name: Tesla P100-PCIE-16GB, pci bus id: 0000:00:04.0, compute capability: 6.0\"\n",
            "]\n"
          ],
          "name": "stdout"
        }
      ]
    },
    {
      "cell_type": "markdown",
      "metadata": {
        "id": "tkl4cXGtrT0e"
      },
      "source": [
        "#### Parameetrid"
      ]
    },
    {
      "cell_type": "code",
      "metadata": {
        "id": "utZ98KP7rT0e"
      },
      "source": [
        "bs = 64 # Batch size\n",
        "resize_size = 96 # for training, resize all the images to a square of this size\n",
        "training_subsample = 0.1 # for development, use a small fraction of the entire dataset rater than full dataset\n",
        "ROOT = './AI-course-project/data'\n",
        "IMG_SIZE = 256\n",
        "EPOCHS = 50"
      ],
      "execution_count": 69,
      "outputs": []
    },
    {
      "cell_type": "markdown",
      "metadata": {
        "id": "9SA1wIltrT0f"
      },
      "source": [
        "## Andmestikude loomine\n",
        "\n",
        "\n"
      ]
    },
    {
      "cell_type": "code",
      "metadata": {
        "id": "zOXoZ0cErT0g"
      },
      "source": [
        "bees_vs_wasps_dataset_path=Path(ROOT) # this is relative to the \"example_notebook\" folder. Modify this to reflect your setup\n",
        "df_labels = pd.read_csv(bees_vs_wasps_dataset_path/'labels.csv')\n",
        "df_labels=df_labels.set_index('id')\n",
        "# perform dataset subsampling\n",
        "df_labels = df_labels.sample(frac=training_subsample, axis=0)"
      ],
      "execution_count": 70,
      "outputs": []
    },
    {
      "cell_type": "code",
      "metadata": {
        "colab": {
          "base_uri": "https://localhost:8080/",
          "height": 242
        },
        "id": "j9xhWOd2rT0h",
        "outputId": "97767668-5d8e-4643-c49a-f5cb7349ffcd"
      },
      "source": [
        "for idx in tqdm(df_labels.index):    \n",
        "    df_labels.loc[idx,'path']=df_labels.loc[idx,'path'].replace('\\\\', '/') \n",
        "    \n",
        "df_labels.head()"
      ],
      "execution_count": 71,
      "outputs": [
        {
          "output_type": "stream",
          "text": [
            "100%|██████████| 1142/1142 [00:00<00:00, 1734.92it/s]\n"
          ],
          "name": "stderr"
        },
        {
          "output_type": "execute_result",
          "data": {
            "text/html": [
              "<div>\n",
              "<style scoped>\n",
              "    .dataframe tbody tr th:only-of-type {\n",
              "        vertical-align: middle;\n",
              "    }\n",
              "\n",
              "    .dataframe tbody tr th {\n",
              "        vertical-align: top;\n",
              "    }\n",
              "\n",
              "    .dataframe thead th {\n",
              "        text-align: right;\n",
              "    }\n",
              "</style>\n",
              "<table border=\"1\" class=\"dataframe\">\n",
              "  <thead>\n",
              "    <tr style=\"text-align: right;\">\n",
              "      <th></th>\n",
              "      <th>path</th>\n",
              "      <th>is_bee</th>\n",
              "      <th>is_wasp</th>\n",
              "      <th>is_otherinsect</th>\n",
              "      <th>is_other</th>\n",
              "      <th>photo_quality</th>\n",
              "      <th>is_validation</th>\n",
              "      <th>is_final_validation</th>\n",
              "      <th>label</th>\n",
              "    </tr>\n",
              "    <tr>\n",
              "      <th>id</th>\n",
              "      <th></th>\n",
              "      <th></th>\n",
              "      <th></th>\n",
              "      <th></th>\n",
              "      <th></th>\n",
              "      <th></th>\n",
              "      <th></th>\n",
              "      <th></th>\n",
              "      <th></th>\n",
              "    </tr>\n",
              "  </thead>\n",
              "  <tbody>\n",
              "    <tr>\n",
              "      <th>838</th>\n",
              "      <td>bee1/29666905196_88b341a839_n.jpg</td>\n",
              "      <td>1</td>\n",
              "      <td>0</td>\n",
              "      <td>0</td>\n",
              "      <td>0</td>\n",
              "      <td>1</td>\n",
              "      <td>0</td>\n",
              "      <td>0</td>\n",
              "      <td>bee</td>\n",
              "    </tr>\n",
              "    <tr>\n",
              "      <th>4618</th>\n",
              "      <td>wasp1/48656045531_5d84a54b53_n.jpg</td>\n",
              "      <td>0</td>\n",
              "      <td>1</td>\n",
              "      <td>0</td>\n",
              "      <td>0</td>\n",
              "      <td>1</td>\n",
              "      <td>0</td>\n",
              "      <td>0</td>\n",
              "      <td>wasp</td>\n",
              "    </tr>\n",
              "    <tr>\n",
              "      <th>4892</th>\n",
              "      <td>wasp1/5960657517_508981ba66_m.jpg</td>\n",
              "      <td>0</td>\n",
              "      <td>1</td>\n",
              "      <td>0</td>\n",
              "      <td>0</td>\n",
              "      <td>1</td>\n",
              "      <td>0</td>\n",
              "      <td>1</td>\n",
              "      <td>wasp</td>\n",
              "    </tr>\n",
              "    <tr>\n",
              "      <th>4745</th>\n",
              "      <td>wasp1/505526711_1c5629b267_n.jpg</td>\n",
              "      <td>0</td>\n",
              "      <td>1</td>\n",
              "      <td>0</td>\n",
              "      <td>0</td>\n",
              "      <td>1</td>\n",
              "      <td>0</td>\n",
              "      <td>0</td>\n",
              "      <td>wasp</td>\n",
              "    </tr>\n",
              "    <tr>\n",
              "      <th>8277</th>\n",
              "      <td>other_insect/14452397711_4a64d2f05d_n.jpg</td>\n",
              "      <td>0</td>\n",
              "      <td>0</td>\n",
              "      <td>1</td>\n",
              "      <td>0</td>\n",
              "      <td>1</td>\n",
              "      <td>0</td>\n",
              "      <td>0</td>\n",
              "      <td>insect</td>\n",
              "    </tr>\n",
              "  </tbody>\n",
              "</table>\n",
              "</div>"
            ],
            "text/plain": [
              "                                           path  ...   label\n",
              "id                                               ...        \n",
              "838           bee1/29666905196_88b341a839_n.jpg  ...     bee\n",
              "4618         wasp1/48656045531_5d84a54b53_n.jpg  ...    wasp\n",
              "4892          wasp1/5960657517_508981ba66_m.jpg  ...    wasp\n",
              "4745           wasp1/505526711_1c5629b267_n.jpg  ...    wasp\n",
              "8277  other_insect/14452397711_4a64d2f05d_n.jpg  ...  insect\n",
              "\n",
              "[5 rows x 9 columns]"
            ]
          },
          "metadata": {
            "tags": []
          },
          "execution_count": 71
        }
      ]
    },
    {
      "cell_type": "code",
      "metadata": {
        "colab": {
          "base_uri": "https://localhost:8080/"
        },
        "id": "hzpUV8ZLrT0k",
        "outputId": "9e9ae08a-fba0-4a35-d810-5b59e128114c"
      },
      "source": [
        "print(\"andmestiku suurus enne puhastust:\", str(df_labels.size))\n",
        "df_beesandwasps = df_labels[df_labels['photo_quality'] == 1]\n",
        "df_labels = df_beesandwasps\n",
        "print(\"andmestiku suurus pärast puhastust:\", str(df_labels.size))"
      ],
      "execution_count": 72,
      "outputs": [
        {
          "output_type": "stream",
          "text": [
            "andmestiku suurus enne puhastust: 10278\n",
            "andmestiku suurus pärast puhastust: 6570\n"
          ],
          "name": "stdout"
        }
      ]
    },
    {
      "cell_type": "code",
      "metadata": {
        "id": "-3HE6i3ErT0i"
      },
      "source": [
        "#Andmete kättesaamine algse csv järgi\n",
        "train_df = df_labels.query('is_validation == 0 & is_final_validation == 0').reset_index(drop=True)\n",
        "val_df = df_labels.query('is_validation == 1').reset_index(drop=True)\n",
        "test_df = df_labels.query('is_final_validation == 1').reset_index(drop=True)"
      ],
      "execution_count": 73,
      "outputs": []
    },
    {
      "cell_type": "code",
      "metadata": {
        "scrolled": true,
        "colab": {
          "base_uri": "https://localhost:8080/"
        },
        "id": "1s1msfgcrT0i",
        "outputId": "dc36395b-576b-4be7-8b2e-cd7631c8d0b4"
      },
      "source": [
        "#Meetod admestikude loomiseks pildi failidega\n",
        "def create_datasets(df, img_size):\n",
        "    imgs = []\n",
        "    for path in tqdm(df['path']):\n",
        "        img = cv2.imread(ROOT+\"/\"+path)\n",
        "        img = cv2.cvtColor(img, cv2.COLOR_BGR2RGB)\n",
        "        img = cv2.resize(img, (img_size,img_size))\n",
        "        imgs.append(img)\n",
        "\n",
        "    imgs = np.array(imgs, dtype='float32')\n",
        "    imgs = imgs / 255.0\n",
        "    df = pd.get_dummies(df['label'])\n",
        "    return imgs, df\n",
        "\n",
        "\n",
        "train_imgs, train_df = create_datasets(train_df, IMG_SIZE)\n",
        "val_imgs, val_df = create_datasets(val_df, IMG_SIZE)\n",
        "test_imgs, test_df = create_datasets(test_df, IMG_SIZE)"
      ],
      "execution_count": 74,
      "outputs": [
        {
          "output_type": "stream",
          "text": [
            "100%|██████████| 509/509 [00:00<00:00, 521.06it/s]\n",
            "100%|██████████| 120/120 [00:00<00:00, 530.61it/s]\n",
            "100%|██████████| 101/101 [00:00<00:00, 564.57it/s]\n"
          ],
          "name": "stderr"
        }
      ]
    },
    {
      "cell_type": "markdown",
      "metadata": {
        "id": "AokLTVnJrT0k"
      },
      "source": [
        "## Andmete puhastamine"
      ]
    },
    {
      "cell_type": "markdown",
      "metadata": {
        "id": "G-OY70-xrT0l"
      },
      "source": [
        "## Andmete visualiseerimine"
      ]
    },
    {
      "cell_type": "code",
      "metadata": {
        "colab": {
          "base_uri": "https://localhost:8080/",
          "height": 361
        },
        "id": "UfySLqEnrT0l",
        "outputId": "594f8dd6-1c65-4183-89fb-4eecb7fec4b9"
      },
      "source": [
        "def img_plot(df, label):\n",
        "    df = df.query('label == @label')\n",
        "    imgs = []\n",
        "    for path in df['path'][:9]:\n",
        "        img = cv2.imread('data\\\\'+path)\n",
        "        img = cv2.cvtColor(img, cv2.COLOR_BGR2RGB)\n",
        "        imgs.append(img)\n",
        "    f, ax = plt.subplots(3, 3, figsize=(15,15))\n",
        "    for i, img in enumerate(imgs):\n",
        "        ax[i//3, i%3].imshow(img)\n",
        "        ax[i//3, i%3].axis('off')\n",
        "        ax[i//3, i%3].set_title('label: %s' % label)\n",
        "    plt.show()\n",
        "    \n",
        "\n",
        "\n",
        "img_plot(df_clean, label='bee')\n",
        "img_plot(df_clean, label='wasp')\n",
        "img_plot(df_clean, label='insect')\n",
        "img_plot(df_clean, label='other')"
      ],
      "execution_count": 75,
      "outputs": [
        {
          "output_type": "error",
          "ename": "error",
          "evalue": "ignored",
          "traceback": [
            "\u001b[0;31m---------------------------------------------------------------------------\u001b[0m",
            "\u001b[0;31merror\u001b[0m                                     Traceback (most recent call last)",
            "\u001b[0;32m<ipython-input-75-96000e181202>\u001b[0m in \u001b[0;36m<module>\u001b[0;34m()\u001b[0m\n\u001b[1;32m     15\u001b[0m \u001b[0;34m\u001b[0m\u001b[0m\n\u001b[1;32m     16\u001b[0m \u001b[0;34m\u001b[0m\u001b[0m\n\u001b[0;32m---> 17\u001b[0;31m \u001b[0mimg_plot\u001b[0m\u001b[0;34m(\u001b[0m\u001b[0mdf_clean\u001b[0m\u001b[0;34m,\u001b[0m \u001b[0mlabel\u001b[0m\u001b[0;34m=\u001b[0m\u001b[0;34m'bee'\u001b[0m\u001b[0;34m)\u001b[0m\u001b[0;34m\u001b[0m\u001b[0;34m\u001b[0m\u001b[0m\n\u001b[0m\u001b[1;32m     18\u001b[0m \u001b[0mimg_plot\u001b[0m\u001b[0;34m(\u001b[0m\u001b[0mdf_clean\u001b[0m\u001b[0;34m,\u001b[0m \u001b[0mlabel\u001b[0m\u001b[0;34m=\u001b[0m\u001b[0;34m'wasp'\u001b[0m\u001b[0;34m)\u001b[0m\u001b[0;34m\u001b[0m\u001b[0;34m\u001b[0m\u001b[0m\n\u001b[1;32m     19\u001b[0m \u001b[0mimg_plot\u001b[0m\u001b[0;34m(\u001b[0m\u001b[0mdf_clean\u001b[0m\u001b[0;34m,\u001b[0m \u001b[0mlabel\u001b[0m\u001b[0;34m=\u001b[0m\u001b[0;34m'insect'\u001b[0m\u001b[0;34m)\u001b[0m\u001b[0;34m\u001b[0m\u001b[0;34m\u001b[0m\u001b[0m\n",
            "\u001b[0;32m<ipython-input-75-96000e181202>\u001b[0m in \u001b[0;36mimg_plot\u001b[0;34m(df, label)\u001b[0m\n\u001b[1;32m      4\u001b[0m     \u001b[0;32mfor\u001b[0m \u001b[0mpath\u001b[0m \u001b[0;32min\u001b[0m \u001b[0mdf\u001b[0m\u001b[0;34m[\u001b[0m\u001b[0;34m'path'\u001b[0m\u001b[0;34m]\u001b[0m\u001b[0;34m[\u001b[0m\u001b[0;34m:\u001b[0m\u001b[0;36m9\u001b[0m\u001b[0;34m]\u001b[0m\u001b[0;34m:\u001b[0m\u001b[0;34m\u001b[0m\u001b[0;34m\u001b[0m\u001b[0m\n\u001b[1;32m      5\u001b[0m         \u001b[0mimg\u001b[0m \u001b[0;34m=\u001b[0m \u001b[0mcv2\u001b[0m\u001b[0;34m.\u001b[0m\u001b[0mimread\u001b[0m\u001b[0;34m(\u001b[0m\u001b[0;34m'data\\\\'\u001b[0m\u001b[0;34m+\u001b[0m\u001b[0mpath\u001b[0m\u001b[0;34m)\u001b[0m\u001b[0;34m\u001b[0m\u001b[0;34m\u001b[0m\u001b[0m\n\u001b[0;32m----> 6\u001b[0;31m         \u001b[0mimg\u001b[0m \u001b[0;34m=\u001b[0m \u001b[0mcv2\u001b[0m\u001b[0;34m.\u001b[0m\u001b[0mcvtColor\u001b[0m\u001b[0;34m(\u001b[0m\u001b[0mimg\u001b[0m\u001b[0;34m,\u001b[0m \u001b[0mcv2\u001b[0m\u001b[0;34m.\u001b[0m\u001b[0mCOLOR_BGR2RGB\u001b[0m\u001b[0;34m)\u001b[0m\u001b[0;34m\u001b[0m\u001b[0;34m\u001b[0m\u001b[0m\n\u001b[0m\u001b[1;32m      7\u001b[0m         \u001b[0mimgs\u001b[0m\u001b[0;34m.\u001b[0m\u001b[0mappend\u001b[0m\u001b[0;34m(\u001b[0m\u001b[0mimg\u001b[0m\u001b[0;34m)\u001b[0m\u001b[0;34m\u001b[0m\u001b[0;34m\u001b[0m\u001b[0m\n\u001b[1;32m      8\u001b[0m     \u001b[0mf\u001b[0m\u001b[0;34m,\u001b[0m \u001b[0max\u001b[0m \u001b[0;34m=\u001b[0m \u001b[0mplt\u001b[0m\u001b[0;34m.\u001b[0m\u001b[0msubplots\u001b[0m\u001b[0;34m(\u001b[0m\u001b[0;36m3\u001b[0m\u001b[0;34m,\u001b[0m \u001b[0;36m3\u001b[0m\u001b[0;34m,\u001b[0m \u001b[0mfigsize\u001b[0m\u001b[0;34m=\u001b[0m\u001b[0;34m(\u001b[0m\u001b[0;36m15\u001b[0m\u001b[0;34m,\u001b[0m\u001b[0;36m15\u001b[0m\u001b[0;34m)\u001b[0m\u001b[0;34m)\u001b[0m\u001b[0;34m\u001b[0m\u001b[0;34m\u001b[0m\u001b[0m\n",
            "\u001b[0;31merror\u001b[0m: OpenCV(4.1.2) /io/opencv/modules/imgproc/src/color.cpp:182: error: (-215:Assertion failed) !_src.empty() in function 'cvtColor'\n"
          ]
        }
      ]
    },
    {
      "cell_type": "markdown",
      "metadata": {
        "id": "ASQvt82orT0n"
      },
      "source": [
        "## Närvivõrgu loomine ja treenimine"
      ]
    },
    {
      "cell_type": "code",
      "metadata": {
        "id": "_C5lE1zrrT0o"
      },
      "source": [
        "#Närvivõrk\n",
        "def make_model(img_size, n):\n",
        "    inp = Input(shape=(img_size,img_size,n))\n",
        "    x = Conv2D(32, (3,3))(inp)\n",
        "    x = Activation('relu')(x)\n",
        "    x = MaxPooling2D(pool_size=(2, 2))(x)\n",
        "\n",
        "    x = Conv2D(64, (3,3))(x)\n",
        "    x = Activation('relu')(x)\n",
        "    x = MaxPooling2D(pool_size=(2, 2))(x)\n",
        "    \n",
        "    x = Flatten()(x)\n",
        "    x = Dense(64)(x)\n",
        "    x = Activation('relu')(x)\n",
        "    x = Dropout(0.5)(x)\n",
        "    x = Dense(3, activation='sigmoid')(x)\n",
        "\n",
        "    model = tf.keras.Model(inputs=inp, outputs=x) \n",
        "    model.compile(optimizer='rmsprop', loss='categorical_crossentropy', metrics=['categorical_accuracy'])\n",
        "    return model\n",
        "\n",
        "callback = tf.keras.callbacks.EarlyStopping(patience=10, \n",
        "                                               verbose=1, \n",
        "                                               restore_best_weights=True)\n",
        "model = make_model(IMG_SIZE, 3)"
      ],
      "execution_count": 167,
      "outputs": []
    },
    {
      "cell_type": "code",
      "metadata": {
        "id": "vq1A66BrxRUb",
        "outputId": "6882e981-aa7b-4a3d-ca6b-53b34a1d4ca2",
        "colab": {
          "base_uri": "https://localhost:8080/"
        }
      },
      "source": [
        "model.summary()"
      ],
      "execution_count": 160,
      "outputs": [
        {
          "output_type": "stream",
          "text": [
            "Model: \"model_26\"\n",
            "_________________________________________________________________\n",
            "Layer (type)                 Output Shape              Param #   \n",
            "=================================================================\n",
            "input_44 (InputLayer)        [(None, 256, 256, 3)]     0         \n",
            "_________________________________________________________________\n",
            "dense_75 (Dense)             (None, 256, 256, 64)      256       \n",
            "_________________________________________________________________\n",
            "conv2d_36 (Conv2D)           (None, 254, 254, 32)      18464     \n",
            "_________________________________________________________________\n",
            "activation_35 (Activation)   (None, 254, 254, 32)      0         \n",
            "_________________________________________________________________\n",
            "max_pooling2d_10 (MaxPooling (None, 127, 127, 32)      0         \n",
            "_________________________________________________________________\n",
            "dense_76 (Dense)             (None, 127, 127, 64)      2112      \n",
            "_________________________________________________________________\n",
            "activation_36 (Activation)   (None, 127, 127, 64)      0         \n",
            "_________________________________________________________________\n",
            "dropout_31 (Dropout)         (None, 127, 127, 64)      0         \n",
            "_________________________________________________________________\n",
            "dense_77 (Dense)             (None, 127, 127, 3)       195       \n",
            "=================================================================\n",
            "Total params: 21,027\n",
            "Trainable params: 21,027\n",
            "Non-trainable params: 0\n",
            "_________________________________________________________________\n"
          ],
          "name": "stdout"
        }
      ]
    },
    {
      "cell_type": "code",
      "metadata": {
        "colab": {
          "base_uri": "https://localhost:8080/"
        },
        "id": "IZW3G0mKrT0p",
        "outputId": "62884dfa-393f-48be-dc9b-9e2ea821ec01"
      },
      "source": [
        "print(train_imgs.shape)\n",
        "print(train_df.shape)\n",
        "print(train_df)"
      ],
      "execution_count": 135,
      "outputs": [
        {
          "output_type": "stream",
          "text": [
            "(509, 256, 256, 3)\n",
            "(509, 3)\n",
            "     bee  insect  wasp\n",
            "0      1       0     0\n",
            "1      0       0     1\n",
            "2      0       0     1\n",
            "3      0       1     0\n",
            "4      0       0     1\n",
            "..   ...     ...   ...\n",
            "504    1       0     0\n",
            "505    1       0     0\n",
            "506    0       1     0\n",
            "507    1       0     0\n",
            "508    0       0     1\n",
            "\n",
            "[509 rows x 3 columns]\n"
          ],
          "name": "stdout"
        }
      ]
    },
    {
      "cell_type": "code",
      "metadata": {
        "colab": {
          "base_uri": "https://localhost:8080/"
        },
        "id": "DN-xol-TrT0r",
        "outputId": "00271d3f-d1a8-4ebb-c874-67896f3841f5"
      },
      "source": [
        "#Mudeli treenimine\n",
        "history = model.fit(train_imgs, \n",
        "                    train_df, \n",
        "                    batch_size=bs, \n",
        "                    epochs=EPOCHS,\n",
        "                    callbacks=[callback],\n",
        "                    validation_data=(val_imgs, val_df)\n",
        "                   )"
      ],
      "execution_count": 168,
      "outputs": [
        {
          "output_type": "stream",
          "text": [
            "Epoch 1/50\n",
            "8/8 [==============================] - 3s 200ms/step - loss: 14.2771 - categorical_accuracy: 0.3249 - val_loss: 1.0654 - val_categorical_accuracy: 0.3833\n",
            "Epoch 2/50\n",
            "8/8 [==============================] - 1s 82ms/step - loss: 1.0793 - categorical_accuracy: 0.4748 - val_loss: 1.0266 - val_categorical_accuracy: 0.5417\n",
            "Epoch 3/50\n",
            "8/8 [==============================] - 1s 83ms/step - loss: 1.0027 - categorical_accuracy: 0.5233 - val_loss: 1.0100 - val_categorical_accuracy: 0.5083\n",
            "Epoch 4/50\n",
            "8/8 [==============================] - 1s 77ms/step - loss: 0.8724 - categorical_accuracy: 0.6128 - val_loss: 1.2355 - val_categorical_accuracy: 0.3667\n",
            "Epoch 5/50\n",
            "8/8 [==============================] - 1s 77ms/step - loss: 0.9859 - categorical_accuracy: 0.5363 - val_loss: 0.9357 - val_categorical_accuracy: 0.6417\n",
            "Epoch 6/50\n",
            "8/8 [==============================] - 1s 79ms/step - loss: 0.7737 - categorical_accuracy: 0.7092 - val_loss: 1.0362 - val_categorical_accuracy: 0.4333\n",
            "Epoch 7/50\n",
            "8/8 [==============================] - 1s 80ms/step - loss: 0.6335 - categorical_accuracy: 0.7379 - val_loss: 0.9993 - val_categorical_accuracy: 0.5417\n",
            "Epoch 8/50\n",
            "8/8 [==============================] - 1s 81ms/step - loss: 0.6433 - categorical_accuracy: 0.7489 - val_loss: 1.1330 - val_categorical_accuracy: 0.5250\n",
            "Epoch 9/50\n",
            "8/8 [==============================] - 1s 84ms/step - loss: 0.6061 - categorical_accuracy: 0.7771 - val_loss: 1.0494 - val_categorical_accuracy: 0.5417\n",
            "Epoch 10/50\n",
            "8/8 [==============================] - 1s 81ms/step - loss: 0.4964 - categorical_accuracy: 0.8213 - val_loss: 1.0664 - val_categorical_accuracy: 0.5917\n",
            "Epoch 11/50\n",
            "8/8 [==============================] - 1s 82ms/step - loss: 0.3721 - categorical_accuracy: 0.8876 - val_loss: 1.2318 - val_categorical_accuracy: 0.5917\n",
            "Epoch 12/50\n",
            "8/8 [==============================] - 1s 84ms/step - loss: 0.2470 - categorical_accuracy: 0.9348 - val_loss: 1.2800 - val_categorical_accuracy: 0.5333\n",
            "Epoch 13/50\n",
            "8/8 [==============================] - 1s 77ms/step - loss: 0.2890 - categorical_accuracy: 0.9134 - val_loss: 1.3327 - val_categorical_accuracy: 0.5583\n",
            "Epoch 14/50\n",
            "8/8 [==============================] - 1s 80ms/step - loss: 0.3072 - categorical_accuracy: 0.8926 - val_loss: 1.1008 - val_categorical_accuracy: 0.5417\n",
            "Epoch 15/50\n",
            "8/8 [==============================] - 1s 82ms/step - loss: 0.1680 - categorical_accuracy: 0.9644 - val_loss: 1.3768 - val_categorical_accuracy: 0.5417\n",
            "Restoring model weights from the end of the best epoch.\n",
            "Epoch 00015: early stopping\n"
          ],
          "name": "stdout"
        }
      ]
    },
    {
      "cell_type": "markdown",
      "metadata": {
        "id": "AAreqJbNrT0r"
      },
      "source": [
        "## Testimine"
      ]
    },
    {
      "cell_type": "code",
      "metadata": {
        "colab": {
          "base_uri": "https://localhost:8080/"
        },
        "id": "m6BVF0iyrT0s",
        "outputId": "074ee8bd-f945-45d9-b53f-15be6d258f37"
      },
      "source": [
        "#Test hulgal täpsu\n",
        "model.evaluate(test_imgs, test_df) "
      ],
      "execution_count": 169,
      "outputs": [
        {
          "output_type": "stream",
          "text": [
            "4/4 [==============================] - 0s 21ms/step - loss: 0.9696 - categorical_accuracy: 0.6040\n"
          ],
          "name": "stdout"
        },
        {
          "output_type": "execute_result",
          "data": {
            "text/plain": [
              "[0.9695920348167419, 0.603960394859314]"
            ]
          },
          "metadata": {
            "tags": []
          },
          "execution_count": 169
        }
      ]
    },
    {
      "cell_type": "code",
      "metadata": {
        "id": "uk2PgdvZyBQQ"
      },
      "source": [
        ""
      ],
      "execution_count": null,
      "outputs": []
    }
  ]
}