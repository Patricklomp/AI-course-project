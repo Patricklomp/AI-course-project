{
 "cells": [
  {
   "cell_type": "markdown",
   "metadata": {},
   "source": [
    "# Bees vs Wasps notebook"
   ]
  },
  {
   "cell_type": "markdown",
   "metadata": {},
   "source": [
    "#### Imports"
   ]
  },
  {
   "cell_type": "code",
   "execution_count": 1,
   "metadata": {},
   "outputs": [
    {
     "name": "stderr",
     "output_type": "stream",
     "text": [
      "Using TensorFlow backend.\n"
     ]
    }
   ],
   "source": [
    "%reload_ext autoreload\n",
    "%autoreload 2\n",
    "%matplotlib inline\n",
    "\n",
    "# additional classic imports\n",
    "from pathlib import Path\n",
    "import pandas as pd\n",
    "import numpy as np\n",
    "import random\n",
    "import os\n",
    "import gc\n",
    "import cv2\n",
    "\n",
    "\n",
    "from tensorflow.keras.layers import *\n",
    "from keras.optimizers import Adam\n",
    "from tqdm import tqdm\n",
    "\n",
    "import matplotlib.pyplot as plt\n",
    "import tensorflow as tf\n",
    "import tensorflow.keras\n",
    "##Selle järgi võiks teha https://blog.keras.io/building-powerful-image-classification-models-using-very-little-data.html\n",
    "##https://www.kaggle.com/koshirosato/bee-or-wasp-base-line-using-resnet50/notebook"
   ]
  },
  {
   "cell_type": "code",
   "execution_count": 2,
   "metadata": {},
   "outputs": [],
   "source": [
    "gpus = tf.config.experimental.list_physical_devices('GPU') \n",
    "for gpu in gpus: \n",
    "    tf.config.experimental.set_memory_growth(gpu, True)"
   ]
  },
  {
   "cell_type": "code",
   "execution_count": 3,
   "metadata": {},
   "outputs": [
    {
     "name": "stdout",
     "output_type": "stream",
     "text": [
      "[name: \"/device:CPU:0\"\n",
      "device_type: \"CPU\"\n",
      "memory_limit: 268435456\n",
      "locality {\n",
      "}\n",
      "incarnation: 17582731878813570253\n",
      "]\n"
     ]
    }
   ],
   "source": [
    "# pip3 install --upgrade tensorflow-gpu\n",
    "\n",
    "from tensorflow.python.client import device_lib\n",
    "print(device_lib.list_local_devices())"
   ]
  },
  {
   "cell_type": "markdown",
   "metadata": {},
   "source": [
    "#### Run parameters"
   ]
  },
  {
   "cell_type": "code",
   "execution_count": 4,
   "metadata": {},
   "outputs": [],
   "source": [
    "bs = 64 # Batch size\n",
    "resize_size = 96 # for training, resize all the images to a square of this size\n",
    "training_subsample = 0.1 # for development, use a small fraction of the entire dataset rater than full dataset\n",
    "ROOT = './data'\n",
    "IMG_SIZE = 256\n",
    "EPOCHS = 50"
   ]
  },
  {
   "cell_type": "code",
   "execution_count": 5,
   "metadata": {},
   "outputs": [],
   "source": [
    "bees_vs_wasps_dataset_path=Path(ROOT) # this is relative to the \"example_notebook\" folder. Modify this to reflect your setup\n",
    "df_labels = pd.read_csv(bees_vs_wasps_dataset_path/'labels.csv')\n",
    "df_labels=df_labels.set_index('id')\n",
    "# perform dataset subsampling\n",
    "df_labels = df_labels.sample(frac=training_subsample, axis=0)"
   ]
  },
  {
   "cell_type": "code",
   "execution_count": 6,
   "metadata": {},
   "outputs": [
    {
     "name": "stderr",
     "output_type": "stream",
     "text": [
      "100%|████████████████████████████████████████████████████████████████████████████| 1142/1142 [00:00<00:00, 2819.77it/s]\n"
     ]
    },
    {
     "data": {
      "text/html": [
       "<div>\n",
       "<style scoped>\n",
       "    .dataframe tbody tr th:only-of-type {\n",
       "        vertical-align: middle;\n",
       "    }\n",
       "\n",
       "    .dataframe tbody tr th {\n",
       "        vertical-align: top;\n",
       "    }\n",
       "\n",
       "    .dataframe thead th {\n",
       "        text-align: right;\n",
       "    }\n",
       "</style>\n",
       "<table border=\"1\" class=\"dataframe\">\n",
       "  <thead>\n",
       "    <tr style=\"text-align: right;\">\n",
       "      <th></th>\n",
       "      <th>path</th>\n",
       "      <th>is_bee</th>\n",
       "      <th>is_wasp</th>\n",
       "      <th>is_otherinsect</th>\n",
       "      <th>is_other</th>\n",
       "      <th>photo_quality</th>\n",
       "      <th>is_validation</th>\n",
       "      <th>is_final_validation</th>\n",
       "      <th>label</th>\n",
       "    </tr>\n",
       "    <tr>\n",
       "      <th>id</th>\n",
       "      <th></th>\n",
       "      <th></th>\n",
       "      <th></th>\n",
       "      <th></th>\n",
       "      <th></th>\n",
       "      <th></th>\n",
       "      <th></th>\n",
       "      <th></th>\n",
       "      <th></th>\n",
       "    </tr>\n",
       "  </thead>\n",
       "  <tbody>\n",
       "    <tr>\n",
       "      <th>9129</th>\n",
       "      <td>other_insect/3421542693_9dd1487959_m.jpg</td>\n",
       "      <td>0</td>\n",
       "      <td>0</td>\n",
       "      <td>1</td>\n",
       "      <td>0</td>\n",
       "      <td>1</td>\n",
       "      <td>0</td>\n",
       "      <td>1</td>\n",
       "      <td>insect</td>\n",
       "    </tr>\n",
       "    <tr>\n",
       "      <th>2798</th>\n",
       "      <td>bee2/NP7466-94r.jpg</td>\n",
       "      <td>1</td>\n",
       "      <td>0</td>\n",
       "      <td>0</td>\n",
       "      <td>0</td>\n",
       "      <td>0</td>\n",
       "      <td>0</td>\n",
       "      <td>0</td>\n",
       "      <td>bee</td>\n",
       "    </tr>\n",
       "    <tr>\n",
       "      <th>223</th>\n",
       "      <td>bee1/14715854799_ca7323ebcd_n.jpg</td>\n",
       "      <td>1</td>\n",
       "      <td>0</td>\n",
       "      <td>0</td>\n",
       "      <td>0</td>\n",
       "      <td>1</td>\n",
       "      <td>0</td>\n",
       "      <td>1</td>\n",
       "      <td>bee</td>\n",
       "    </tr>\n",
       "    <tr>\n",
       "      <th>2105</th>\n",
       "      <td>bee1/7581111696_086e92baca_w.jpg</td>\n",
       "      <td>1</td>\n",
       "      <td>0</td>\n",
       "      <td>0</td>\n",
       "      <td>0</td>\n",
       "      <td>1</td>\n",
       "      <td>0</td>\n",
       "      <td>0</td>\n",
       "      <td>bee</td>\n",
       "    </tr>\n",
       "    <tr>\n",
       "      <th>5951</th>\n",
       "      <td>wasp2/F00455.jpg</td>\n",
       "      <td>0</td>\n",
       "      <td>1</td>\n",
       "      <td>0</td>\n",
       "      <td>0</td>\n",
       "      <td>0</td>\n",
       "      <td>0</td>\n",
       "      <td>0</td>\n",
       "      <td>wasp</td>\n",
       "    </tr>\n",
       "  </tbody>\n",
       "</table>\n",
       "</div>"
      ],
      "text/plain": [
       "                                          path  is_bee  is_wasp  \\\n",
       "id                                                                \n",
       "9129  other_insect/3421542693_9dd1487959_m.jpg       0        0   \n",
       "2798                       bee2/NP7466-94r.jpg       1        0   \n",
       "223          bee1/14715854799_ca7323ebcd_n.jpg       1        0   \n",
       "2105          bee1/7581111696_086e92baca_w.jpg       1        0   \n",
       "5951                          wasp2/F00455.jpg       0        1   \n",
       "\n",
       "      is_otherinsect  is_other  photo_quality  is_validation  \\\n",
       "id                                                             \n",
       "9129               1         0              1              0   \n",
       "2798               0         0              0              0   \n",
       "223                0         0              1              0   \n",
       "2105               0         0              1              0   \n",
       "5951               0         0              0              0   \n",
       "\n",
       "      is_final_validation   label  \n",
       "id                                 \n",
       "9129                    1  insect  \n",
       "2798                    0     bee  \n",
       "223                     1     bee  \n",
       "2105                    0     bee  \n",
       "5951                    0    wasp  "
      ]
     },
     "execution_count": 6,
     "metadata": {},
     "output_type": "execute_result"
    }
   ],
   "source": [
    "for idx in tqdm(df_labels.index):    \n",
    "    df_labels.loc[idx,'path']=df_labels.loc[idx,'path'].replace('\\\\', '/') \n",
    "    \n",
    "df_labels.head()"
   ]
  },
  {
   "cell_type": "markdown",
   "metadata": {},
   "source": [
    "## Andmestikude loomine\n",
    "\n",
    "\n"
   ]
  },
  {
   "cell_type": "code",
   "execution_count": 7,
   "metadata": {},
   "outputs": [],
   "source": [
    "#Andmete kättesaamine algse csv järgi\n",
    "train_df = df_labels.query('is_validation == 0 & is_final_validation == 0').reset_index(drop=True)\n",
    "val_df = df_labels.query('is_validation == 1').reset_index(drop=True)\n",
    "test_df = df_labels.query('is_final_validation == 1').reset_index(drop=True)"
   ]
  },
  {
   "cell_type": "code",
   "execution_count": 8,
   "metadata": {},
   "outputs": [
    {
     "name": "stderr",
     "output_type": "stream",
     "text": [
      "100%|███████████████████████████████████████████████████████████████████████████████| 808/808 [00:06<00:00, 123.97it/s]\n",
      "100%|███████████████████████████████████████████████████████████████████████████████| 167/167 [00:01<00:00, 130.75it/s]\n",
      "100%|███████████████████████████████████████████████████████████████████████████████| 167/167 [00:01<00:00, 127.50it/s]\n"
     ]
    }
   ],
   "source": [
    "#Meetod admestikude loomiseks pildi failidega\n",
    "def create_datasets(df, img_size):\n",
    "    imgs = []\n",
    "    for path in tqdm(df['path']):\n",
    "        img = cv2.imread(ROOT+\"/\"+path)\n",
    "        img = cv2.cvtColor(img, cv2.COLOR_BGR2RGB)\n",
    "        img = cv2.resize(img, (img_size,img_size))\n",
    "        imgs.append(img)\n",
    "\n",
    "    imgs = np.array(imgs, dtype='float32')\n",
    "    imgs = imgs / 255.0\n",
    "    df = pd.get_dummies(df['label'])\n",
    "    return imgs, df\n",
    "\n",
    "\n",
    "train_imgs, train_df = create_datasets(train_df, IMG_SIZE)\n",
    "val_imgs, val_df = create_datasets(val_df, IMG_SIZE)\n",
    "test_imgs, test_df = create_datasets(test_df, IMG_SIZE)"
   ]
  },
  {
   "cell_type": "code",
   "execution_count": 9,
   "metadata": {},
   "outputs": [],
   "source": [
    "#Närvivõrk\n",
    "def make_model(img_size, n):\n",
    "    inp = Input(shape=(img_size,img_size,n))\n",
    "    resnet = tf.keras.applications.ResNet50(input_shape=(img_size,img_size,n), \n",
    "                                            weights='imagenet', \n",
    "                                            include_top=False)\n",
    "    x = resnet(inp)\n",
    "    x = GlobalAveragePooling2D()(x)\n",
    "    x = Dropout(0.3)(x)\n",
    "    x = Dense(4, activation='softmax')(x)\n",
    "    model = tf.keras.Model(inputs=inp, outputs=x) \n",
    "    opt = tf.keras.optimizers.SGD(momentum=0.9)\n",
    "    model.compile(optimizer=opt, loss='categorical_crossentropy', metrics=['accuracy'])\n",
    "    return model\n",
    "\n",
    "    model = Model(inputs=x, outputs=p)\n",
    "    model.compile(loss='categorical_crossentropy', optimizer=Adam(lr=0.001), metrics=['accuracy'])\n",
    "    model.summary()\n",
    "    return model\n",
    "\n",
    "model = make_model(IMG_SIZE, 3)"
   ]
  },
  {
   "cell_type": "code",
   "execution_count": 10,
   "metadata": {},
   "outputs": [
    {
     "name": "stdout",
     "output_type": "stream",
     "text": [
      "(808, 256, 256, 3)\n",
      "(808, 4)\n"
     ]
    }
   ],
   "source": [
    "print(train_imgs.shape)\n",
    "print(train_df.shape)"
   ]
  },
  {
   "cell_type": "code",
   "execution_count": null,
   "metadata": {},
   "outputs": [
    {
     "name": "stdout",
     "output_type": "stream",
     "text": [
      "Epoch 1/50\n",
      " 1/13 [=>............................] - ETA: 11:09 - loss: 1.7776 - accuracy: 0.2188"
     ]
    }
   ],
   "source": [
    "\n",
    "history = model.fit(train_imgs, \n",
    "                    train_df, \n",
    "                    batch_size=bs, \n",
    "                    epochs=EPOCHS,\n",
    "                    validation_data=(val_imgs, val_df)\n",
    "                   )"
   ]
  },
  {
   "cell_type": "code",
   "execution_count": null,
   "metadata": {},
   "outputs": [],
   "source": [
    "train_df"
   ]
  },
  {
   "cell_type": "code",
   "execution_count": null,
   "metadata": {},
   "outputs": [],
   "source": []
  }
 ],
 "metadata": {
  "kernelspec": {
   "display_name": "Python 3",
   "language": "python",
   "name": "python3"
  },
  "language_info": {
   "codemirror_mode": {
    "name": "ipython",
    "version": 3
   },
   "file_extension": ".py",
   "mimetype": "text/x-python",
   "name": "python",
   "nbconvert_exporter": "python",
   "pygments_lexer": "ipython3",
   "version": "3.6.12"
  }
 },
 "nbformat": 4,
 "nbformat_minor": 4
}
